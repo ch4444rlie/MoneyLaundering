{
 "cells": [
  {
   "cell_type": "markdown",
   "metadata": {},
   "source": [
    "First, we will define the schema of transaction data. Transactions must contain entities. Who is sending/receiving money? Where is the money coming from and where is it going?"
   ]
  },
  {
   "cell_type": "code",
   "execution_count": 7,
   "metadata": {},
   "outputs": [],
   "source": [
    "from faker import Faker\n",
    "import pandas as pd\n",
    "import numpy as np\n",
    "\n",
    "# Initialize Faker\n",
    "fake = Faker()\n",
    "\n",
    "# Generate synthetic entities (individuals and businesses)\n",
    "n_entities = 1000\n",
    "entities = []\n",
    "for i in range(n_entities):\n",
    "    entity_type = np.random.choice(['Individual', 'Business'], p=[0.7, 0.3])\n",
    "    if entity_type == 'Individual':\n",
    "        name = fake.name()\n",
    "        country = fake.country()\n",
    "        account = fake.bban()\n",
    "    else:\n",
    "        name = fake.company()\n",
    "        country = fake.country()\n",
    "        account = fake.iban()\n",
    "    entities.append({\n",
    "        'Entity_ID': f'E{i:04d}',\n",
    "        'Name': name,\n",
    "        'Type': entity_type,\n",
    "        'Country': country,\n",
    "        'Account': account\n",
    "    })\n",
    "\n",
    "# Create DataFrame for entities\n",
    "entities_df = pd.DataFrame(entities)"
   ]
  },
  {
   "cell_type": "markdown",
   "metadata": {},
   "source": [
    "Next, we will simulate transaction patterns. These are normal transactions that occur over a set period of time. Amounts should vary to be relistic"
   ]
  },
  {
   "cell_type": "code",
   "execution_count": 8,
   "metadata": {},
   "outputs": [],
   "source": [
    "from datetime import datetime, timedelta\n",
    "\n",
    "# Parameters\n",
    "n_transactions = 10000\n",
    "start_date = datetime(2024, 1, 1)\n",
    "end_date = datetime(2024, 12, 31)\n",
    "\n",
    "# Generate legitimate transactions\n",
    "transactions = []\n",
    "for i in range(n_transactions):\n",
    "    sender = np.random.choice(entities_df['Entity_ID'])\n",
    "    receiver = np.random.choice(entities_df['Entity_ID'])\n",
    "    while sender == receiver:  # Ensure sender != receiver\n",
    "        receiver = np.random.choice(entities_df['Entity_ID'])\n",
    "    \n",
    "    # Transaction amount (log-normal distribution for realistic spread)\n",
    "    amount = np.random.lognormal(mean=6, sigma=1.5)  # Mean ~$400, varies widely\n",
    "    amount = round(max(10, min(amount, 100000)), 2)  # Cap between $10 and $100K\n",
    "    \n",
    "    # Random timestamp\n",
    "    days = (end_date - start_date).days\n",
    "    timestamp = start_date + timedelta(days=np.random.randint(0, days), \n",
    "                                      seconds=np.random.randint(0, 86400))\n",
    "    \n",
    "    # Transaction type and description\n",
    "    trans_type = np.random.choice(['Wire Transfer', 'Cash Deposit', 'Payment'])\n",
    "    description = fake.sentence(nb_words=5) if trans_type == 'Payment' else f\"{trans_type} #{i}\"\n",
    "    \n",
    "    transactions.append({\n",
    "        'Transaction_ID': f'T{i:06d}',\n",
    "        'Sender_ID': sender,\n",
    "        'Receiver_ID': receiver,\n",
    "        'Amount': amount,\n",
    "        'Timestamp': timestamp,\n",
    "        'Transaction_Type': trans_type,\n",
    "        'Sender_Country': entities_df[entities_df['Entity_ID'] == sender]['Country'].iloc[0],\n",
    "        'Receiver_Country': entities_df[entities_df['Entity_ID'] == receiver]['Country'].iloc[0],\n",
    "        'Description': description,\n",
    "        'Suspicious_Flag': False\n",
    "    })\n",
    "\n",
    "# Create DataFrame for transactions\n",
    "transactions_df = pd.DataFrame(transactions)"
   ]
  },
  {
   "cell_type": "markdown",
   "metadata": {},
   "source": [
    "Money laundering tactics mentioned in the Project Aurora's file include Money Mules and Smurfing.\n",
    "Money mules are funds that are transfered across multiple accounts to hide the source of the funds.\n",
    "Smurfing breaks large amounts of money into multiple smaller transactions to avoid being detected"
   ]
  },
  {
   "cell_type": "code",
   "execution_count": 9,
   "metadata": {},
   "outputs": [],
   "source": [
    "# Select a subset of entities as money mules\n",
    "money_mules = entities_df.sample(n=50)['Entity_ID'].tolist()\n",
    "\n",
    "# Generate money mule transactions\n",
    "n_mule_transactions = 500\n",
    "mule_transactions = []\n",
    "for i in range(n_mule_transactions):\n",
    "    # Chain of 3-5 accounts for layering\n",
    "    chain_length = np.random.randint(3, 6)\n",
    "    chain = np.random.choice(money_mules, size=chain_length, replace=False)\n",
    "    \n",
    "    # Total illicit amount\n",
    "    total_amount = np.random.uniform(5000, 50000)\n",
    "    \n",
    "    # Split into smaller transactions\n",
    "    for j in range(chain_length - 1):\n",
    "        amount = round(total_amount / (chain_length - 1) * np.random.uniform(0.8, 1.2), 2)\n",
    "        timestamp = start_date + timedelta(days=np.random.randint(0, days), \n",
    "                                         seconds=np.random.randint(0, 3600))  # Rapid transfers\n",
    "        mule_transactions.append({\n",
    "            'Transaction_ID': f'MT{i:04d}_{j}',\n",
    "            'Sender_ID': chain[j],\n",
    "            'Receiver_ID': chain[j + 1],\n",
    "            'Amount': min(amount, 9999.99),  # Keep under reporting threshold\n",
    "            'Timestamp': timestamp,\n",
    "            'Transaction_Type': 'Wire Transfer',\n",
    "            'Sender_Country': entities_df[entities_df['Entity_ID'] == chain[j]]['Country'].iloc[0],\n",
    "            'Receiver_Country': entities_df[entities_df['Entity_ID'] == chain[j + 1]]['Country'].iloc[0],\n",
    "            'Description': 'Transfer',\n",
    "            'Suspicious_Flag': True\n",
    "        })\n",
    "\n",
    "# Append to transactions DataFrame\n",
    "mule_transactions_df = pd.DataFrame(mule_transactions)\n",
    "transactions_df = pd.concat([transactions_df, mule_transactions_df], ignore_index=True)"
   ]
  },
  {
   "cell_type": "code",
   "execution_count": 10,
   "metadata": {},
   "outputs": [],
   "source": [
    "# Generate smurfing transactions\n",
    "n_smurf_transactions = 200\n",
    "smurf_transactions = []\n",
    "for i in range(n_smurf_transactions):\n",
    "    total_amount = np.random.uniform(10000, 50000)\n",
    "    n_splits = np.random.randint(3, 10)  # Split into 3-10 smaller transactions\n",
    "    split_amount = total_amount / n_splits\n",
    "    \n",
    "    sender = np.random.choice(money_mules)\n",
    "    for j in range(n_splits):\n",
    "        receiver = np.random.choice(entities_df['Entity_ID'])\n",
    "        while receiver == sender:\n",
    "            receiver = np.random.choice(entities_df['Entity_ID'])\n",
    "        \n",
    "        timestamp = start_date + timedelta(days=np.random.randint(0, days), \n",
    "                                         seconds=np.random.randint(0, 3600))\n",
    "        smurf_transactions.append({\n",
    "            'Transaction_ID': f'ST{i:04d}_{j}',\n",
    "            'Sender_ID': sender,\n",
    "            'Receiver_ID': receiver,\n",
    "            'Amount': min(round(split_amount * np.random.uniform(0.8, 1.2), 2), 9999.99),\n",
    "            'Timestamp': timestamp,\n",
    "            'Transaction_Type': 'Cash Deposit',\n",
    "            'Sender_Country': entities_df[entities_df['Entity_ID'] == sender]['Country'].iloc[0],\n",
    "            'Receiver_Country': entities_df[entities_df['Entity_ID'] == receiver]['Country'].iloc[0],\n",
    "            'Description': 'Deposit',\n",
    "            'Suspicious_Flag': True\n",
    "        })\n",
    "\n",
    "# Append to transactions DataFrame\n",
    "smurf_transactions_df = pd.DataFrame(smurf_transactions)\n",
    "transactions_df = pd.concat([transactions_df, smurf_transactions_df], ignore_index=True)"
   ]
  },
  {
   "cell_type": "code",
   "execution_count": 14,
   "metadata": {},
   "outputs": [
    {
     "name": "stdout",
     "output_type": "stream",
     "text": [
      "Total Transactions: 12686\n",
      "Suspicious Transactions: 2686\n",
      "Unique Entities: 1000\n",
      "Country Distribution:\n",
      " Sender_Country\n",
      "Comoros                    204\n",
      "Nicaragua                  174\n",
      "Belize                     169\n",
      "Denmark                    163\n",
      "Cocos (Keeling) Islands    155\n",
      "                          ... \n",
      "Turkey                      11\n",
      "Sierra Leone                10\n",
      "Australia                   10\n",
      "Rwanda                      10\n",
      "Tuvalu                       5\n",
      "Name: count, Length: 236, dtype: int64\n"
     ]
    }
   ],
   "source": [
    "# Save to CSV in the a_graph folder\n",
    "transactions_df.to_csv('synthetic_transactions.csv', index=False)\n",
    "\n",
    "# Basic summary\n",
    "print(\"Total Transactions:\", len(transactions_df))\n",
    "print(\"Suspicious Transactions:\", len(transactions_df[transactions_df['Suspicious_Flag']]))\n",
    "print(\"Unique Entities:\", len(set(transactions_df['Sender_ID']) | set(transactions_df['Receiver_ID'])))\n",
    "print(\"Country Distribution:\\n\", transactions_df['Sender_Country'].value_counts())"
   ]
  },
  {
   "cell_type": "code",
   "execution_count": null,
   "metadata": {},
   "outputs": [],
   "source": []
  }
 ],
 "metadata": {
  "kernelspec": {
   "display_name": ".venv",
   "language": "python",
   "name": "python3"
  },
  "language_info": {
   "codemirror_mode": {
    "name": "ipython",
    "version": 3
   },
   "file_extension": ".py",
   "mimetype": "text/x-python",
   "name": "python",
   "nbconvert_exporter": "python",
   "pygments_lexer": "ipython3",
   "version": "3.13.0"
  }
 },
 "nbformat": 4,
 "nbformat_minor": 2
}
