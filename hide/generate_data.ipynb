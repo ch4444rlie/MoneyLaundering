{
 "cells": [
  {
   "cell_type": "code",
   "execution_count": 3,
   "metadata": {},
   "outputs": [
    {
     "name": "stdout",
     "output_type": "stream",
     "text": [
      "Generated data_entities.csv with 1000 entities\n",
      "Generated data_synthetic_transactions.csv with 12714 transactions\n"
     ]
    }
   ],
   "source": [
    "from faker import Faker\n",
    "import pandas as pd\n",
    "import numpy as np\n",
    "from datetime import datetime, timedelta\n",
    "\n",
    "# Initialize Faker\n",
    "fake = Faker()\n",
    "\n",
    "# Generate entities\n",
    "n_entities = 1000\n",
    "entities = []\n",
    "for i in range(n_entities):\n",
    "    entity_type = np.random.choice(['Individual', 'Business'], p=[0.7, 0.3])\n",
    "    entities.append({\n",
    "        'Entity_ID': f'E{i:04d}',  # Unique IDs: E0000 to E0999\n",
    "        'Name': fake.name() if entity_type == 'Individual' else fake.company(),\n",
    "        'Type': entity_type,\n",
    "        'Country': fake.country(),\n",
    "        'Account': fake.bban() if entity_type == 'Individual' else fake.iban()\n",
    "    })\n",
    "entities_df = pd.DataFrame(entities)\n",
    "\n",
    "# Verify uniqueness\n",
    "if entities_df['Entity_ID'].duplicated().any():\n",
    "    raise ValueError(\"Duplicate Entity_IDs in entities_df\")\n",
    "\n",
    "# Save entities\n",
    "entities_df.to_csv('data_entities.csv', index=False, encoding='utf-8')\n",
    "print(f\"Generated data_entities.csv with {len(entities_df)} entities\")\n"
   ]
  },
  {
   "cell_type": "code",
   "execution_count": 1,
   "metadata": {},
   "outputs": [
    {
     "name": "stdout",
     "output_type": "stream",
     "text": [
      "Generated data_entities.csv with 1000 entities\n",
      "Generated data_synthetic_transactions.csv with 12656 transactions\n"
     ]
    }
   ],
   "source": [
    "\n",
    "\n",
    "from faker import Faker\n",
    "import pandas as pd\n",
    "import numpy as np\n",
    "from datetime import datetime, timedelta\n",
    "\n",
    "fake = Faker()\n",
    "n_entities = 1000\n",
    "entities = [{'Entity_ID': f'E{i:04d}', 'Name': fake.name() if np.random.choice([0,1]) else fake.company(), \n",
    "             'Type': 'Individual' if np.random.choice([0,1]) else 'Business', 'Country': fake.country(), \n",
    "             'Account': fake.bban() if np.random.choice([0,1]) else fake.iban()} for i in range(n_entities)]\n",
    "entities_df = pd.DataFrame(entities)\n",
    "entities_df.to_csv('data_entities.csv', index=False, encoding='utf-8')\n",
    "print(f\"Generated data_entities.csv with {len(entities_df)} entities\")\n",
    "\n",
    "n_transactions = 10000\n",
    "start_date = datetime(2024, 1, 1)\n",
    "end_date = datetime(2024, 12, 31)\n",
    "days = (end_date - start_date).days\n",
    "entity_ids = entities_df['Entity_ID'].tolist()\n",
    "transactions = []\n",
    "for i in range(n_transactions):\n",
    "    sender = np.random.choice(entity_ids)\n",
    "    receiver = np.random.choice(entity_ids)\n",
    "    while sender == receiver:\n",
    "        receiver = np.random.choice(entity_ids)\n",
    "    amount = round(max(10, min(np.random.lognormal(mean=6, sigma=1.5), 100000)), 2)\n",
    "    timestamp = start_date + timedelta(days=np.random.randint(0, days), seconds=np.random.randint(0, 86400))\n",
    "    trans_type = np.random.choice(['Wire Transfer', 'Cash Deposit', 'Payment'])\n",
    "    description = fake.sentence(nb_words=5) if trans_type == 'Payment' else f\"{trans_type} #{i}\"\n",
    "    transactions.append({\n",
    "        'Transaction_ID': f'T{i:06d}',\n",
    "        'Sender_ID': sender,\n",
    "        'Receiver_ID': receiver,\n",
    "        'Amount': amount,\n",
    "        'Timestamp': timestamp.isoformat(),\n",
    "        'Transaction_Type': trans_type,\n",
    "        'Sender_Country': entities_df[entities_df['Entity_ID'] == sender]['Country'].iloc[0],\n",
    "        'Receiver_Country': entities_df[entities_df['Entity_ID'] == receiver]['Country'].iloc[0],\n",
    "        'Description': description,\n",
    "        'Suspicious_Flag': False\n",
    "    })\n",
    "\n",
    "money_mules = entities_df.sample(n=50, random_state=42)['Entity_ID'].tolist()\n",
    "n_mule_transactions = 500\n",
    "for i in range(n_mule_transactions):\n",
    "    chain_length = np.random.randint(3, 6)\n",
    "    chain = np.random.choice(money_mules, size=chain_length, replace=False)\n",
    "    total_amount = np.random.uniform(5000, 50000)\n",
    "    for j in range(chain_length - 1):\n",
    "        amount = min(round(total_amount / (chain_length - 1) * np.random.uniform(0.8, 1.2), 2), 9999.99)\n",
    "        timestamp = start_date + timedelta(days=np.random.randint(0, days), seconds=np.random.randint(0, 3600))\n",
    "        transactions.append({\n",
    "            'Transaction_ID': f'MT{i:04d}_{j}',\n",
    "            'Sender_ID': chain[j],\n",
    "            'Receiver_ID': chain[j + 1],\n",
    "            'Amount': amount,\n",
    "            'Timestamp': timestamp.isoformat(),\n",
    "            'Transaction_Type': 'Wire Transfer',\n",
    "            'Sender_Country': entities_df[entities_df['Entity_ID'] == chain[j]]['Country'].iloc[0],\n",
    "            'Receiver_Country': entities_df[entities_df['Entity_ID'] == chain[j + 1]]['Country'].iloc[0],\n",
    "            'Description': 'Transfer',\n",
    "            'Suspicious_Flag': True\n",
    "        })\n",
    "\n",
    "n_smurf_transactions = 200\n",
    "for i in range(n_smurf_transactions):\n",
    "    total_amount = np.random.uniform(10000, 50000)\n",
    "    n_splits = np.random.randint(3, 10)\n",
    "    split_amount = total_amount / n_splits\n",
    "    sender = np.random.choice(money_mules)\n",
    "    for j in range(n_splits):\n",
    "        receiver = np.random.choice(entity_ids)\n",
    "        while receiver == sender:\n",
    "            receiver = np.random.choice(entity_ids)\n",
    "        amount = min(round(split_amount * np.random.uniform(0.8, 1.2), 2), 9999.99)\n",
    "        timestamp = start_date + timedelta(days=np.random.randint(0, days), seconds=np.random.randint(0, 3600))\n",
    "        transactions.append({\n",
    "            'Transaction_ID': f'ST{i:04d}_{j}',\n",
    "            'Sender_ID': sender,\n",
    "            'Receiver_ID': receiver,\n",
    "            'Amount': amount,\n",
    "            'Timestamp': timestamp.isoformat(),\n",
    "            'Transaction_Type': 'Cash Deposit',\n",
    "            'Sender_Country': entities_df[entities_df['Entity_ID'] == sender]['Country'].iloc[0],\n",
    "            'Receiver_Country': entities_df[entities_df['Entity_ID'] == receiver]['Country'].iloc[0],\n",
    "            'Description': 'Deposit',\n",
    "            'Suspicious_Flag': True\n",
    "        })\n",
    "\n",
    "transactions_df = pd.DataFrame(transactions)\n",
    "if transactions_df['Transaction_ID'].duplicated().any():\n",
    "    raise ValueError(\"Duplicate Transaction_IDs\")\n",
    "invalid_ids = set(transactions_df['Sender_ID']).union(transactions_df['Receiver_ID']) - set(entities_df['Entity_ID'])\n",
    "if invalid_ids:\n",
    "    raise ValueError(f\"Invalid IDs: {invalid_ids}\")\n",
    "transactions_df.to_csv('data_synthetic_transactions.csv', index=False, encoding='utf-8')\n",
    "print(f\"Generated data_synthetic_transactions.csv with {len(transactions_df)} transactions\")\n"
   ]
  },
  {
   "cell_type": "code",
   "execution_count": 2,
   "metadata": {},
   "outputs": [
    {
     "name": "stdout",
     "output_type": "stream",
     "text": [
      "Generated data_synthetic_transactions.csv with 12656 transactions\n"
     ]
    }
   ],
   "source": [
    "\n",
    "\n",
    "# Create transactions DataFrame\n",
    "transactions_df = pd.DataFrame(transactions)\n",
    "\n",
    "# Verify uniqueness and validity\n",
    "if transactions_df['Transaction_ID'].duplicated().any():\n",
    "    raise ValueError(\"Duplicate Transaction_IDs\")\n",
    "invalid_ids = set(transactions_df['Sender_ID']).union(transactions_df['Receiver_ID']) - set(entities_df['Entity_ID'])\n",
    "if invalid_ids:\n",
    "    raise ValueError(f\"Invalid IDs: {invalid_ids}\")\n",
    "\n",
    "# Save transactions\n",
    "transactions_df.to_csv('data_synthetic_transactions.csv', index=False, encoding='utf-8')\n",
    "print(f\"Generated data_synthetic_transactions.csv with {len(transactions_df)} transactions\")"
   ]
  },
  {
   "cell_type": "code",
   "execution_count": null,
   "metadata": {},
   "outputs": [],
   "source": []
  }
 ],
 "metadata": {
  "kernelspec": {
   "display_name": ".venv",
   "language": "python",
   "name": "python3"
  },
  "language_info": {
   "codemirror_mode": {
    "name": "ipython",
    "version": 3
   },
   "file_extension": ".py",
   "mimetype": "text/x-python",
   "name": "python",
   "nbconvert_exporter": "python",
   "pygments_lexer": "ipython3",
   "version": "3.13.0"
  }
 },
 "nbformat": 4,
 "nbformat_minor": 2
}
