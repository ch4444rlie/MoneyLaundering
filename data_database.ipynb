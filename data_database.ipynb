{
 "cells": [
  {
   "cell_type": "code",
   "execution_count": 42,
   "metadata": {},
   "outputs": [],
   "source": [
    "import pandas as pd\n",
    "import numpy as np\n",
    "from faker import Faker\n",
    "import random\n",
    "from datetime import datetime, timedelta\n",
    "import os\n",
    "import csv\n",
    "\n",
    "# Initialize Faker\n",
    "fake = Faker()\n",
    "\n",
    "# Set random seed for reproducibility\n",
    "random.seed(42)\n",
    "np.random.seed(42)\n"
   ]
  },
  {
   "cell_type": "code",
   "execution_count": 48,
   "metadata": {},
   "outputs": [
    {
     "name": "stdout",
     "output_type": "stream",
     "text": [
      "Synthetic data generated: entities.csv (1000 entities) and transactions.csv (5000 transactions)\n"
     ]
    }
   ],
   "source": [
    "# Parameters based on Project Aurora\n",
    "num_individuals = 800  # Number of individual accounts\n",
    "num_businesses = 200   # Number of business accounts\n",
    "num_transactions = 5000  # Total transactions\n",
    "transaction_types = ['cash', 'wire', 'crypto', 'international']\n",
    "\n",
    "# Curated list of real countries\n",
    "countries = [\n",
    "    'United States', 'Germany', 'Brazil', 'Japan', 'India', 'France', 'Canada',\n",
    "    'Australia', 'South Africa', 'Mexico', 'United Kingdom', 'China', 'Italy', 'Spain'\n",
    "]\n",
    "\n",
    "# Generate entities (individuals and businesses)\n",
    "individuals = [\n",
    "    {\n",
    "        'entity_id': f'I{str(i).zfill(4)}',\n",
    "        'entity_type': 'individual',\n",
    "        'name': fake.last_name(),\n",
    "        'country': random.choice(countries)\n",
    "    }\n",
    "    for i in range(num_individuals)\n",
    "]\n",
    "\n",
    "business_names = [\n",
    "    'Acme', 'Nexlify', 'Techtron', 'Globex', 'Innovex', 'Quantum', 'Synergy',\n",
    "    'Vertex', 'OmniCorp', 'BrightPeak', 'Nexus', 'Strive', 'Pinnacle', 'CoreZap'\n",
    "] * (num_businesses // 14 + 1)\n",
    "\n",
    "businesses = [\n",
    "    {\n",
    "        'entity_id': f'B{str(i).zfill(4)}',\n",
    "        'entity_type': 'business',\n",
    "        'name': business_names[i],\n",
    "        'country': random.choice(countries)\n",
    "    }\n",
    "    for i in range(num_businesses)\n",
    "]\n",
    "\n",
    "entities = individuals + businesses\n",
    "entities_df = pd.DataFrame(entities)\n",
    "\n",
    "# Validate entities_df\n",
    "for idx, row in entities_df.iterrows():\n",
    "    if len(row) != 4:\n",
    "        print(f\"Warning: Row {idx} in entities_df has {len(row)} columns: {row}\")\n",
    "    if any(c in row['name'] for c in [',', '\"', ' ']):\n",
    "        print(f\"Warning: Row {idx} in entities_df has invalid characters in name: {row['name']}\")\n",
    "\n",
    "# Generate transactions with money laundering patterns\n",
    "def generate_transaction(entities_df, idx, is_ml=False):\n",
    "    valid_entity_ids = entities_df['entity_id'].values\n",
    "    sender = np.random.choice(valid_entity_ids)\n",
    "    \n",
    "    receiver_candidates = entities_df[entities_df['entity_id'] != sender]['entity_id'].values\n",
    "    if len(receiver_candidates) == 0:\n",
    "        print(f\"Warning: No valid receivers for sender {sender}\")\n",
    "        return None\n",
    "    \n",
    "    receiver = np.random.choice(receiver_candidates)\n",
    "    \n",
    "    if sender.startswith('T') or receiver.startswith('T'):\n",
    "        print(f\"Error: Invalid ID generated - sender: {sender}, receiver: {receiver}\")\n",
    "        return None\n",
    "    \n",
    "    if is_ml:\n",
    "        amount = np.random.uniform(50, 900)  # Smurfing: small transactions\n",
    "    else:\n",
    "        amount = np.random.uniform(100, 10000)  # Normal transactions\n",
    "    \n",
    "    transaction_type = random.choice(transaction_types)\n",
    "    timestamp = fake.date_time_between(start_date='-30d', end_date='now')\n",
    "    \n",
    "    sender_country = entities_df[entities_df['entity_id'] == sender]['country'].iloc[0]\n",
    "    receiver_country = entities_df[entities_df['entity_id'] == receiver]['country'].iloc[0]\n",
    "    is_cross_border = sender_country != receiver_country\n",
    "    \n",
    "    ml_flag = 1 if is_ml else 0\n",
    "    \n",
    "    return {\n",
    "        'sender_id': sender,\n",
    "        'receiver_id': receiver,\n",
    "        'transaction_id': f'T{str(idx).zfill(5)}',\n",
    "        'amount': round(amount, 2),\n",
    "        'transaction_type': transaction_type,\n",
    "        'timestamp': timestamp,\n",
    "        'is_cross_border': is_cross_border,\n",
    "        'ml_flag': ml_flag\n",
    "    }\n",
    "\n",
    "# Generate transactions\n",
    "transactions = []\n",
    "ml_transaction_count = int(num_transactions * 0.1)\n",
    "i = 0\n",
    "while len(transactions) < num_transactions:\n",
    "    is_ml = i < ml_transaction_count\n",
    "    if is_ml and i % 10 == 0:  # Simulate money mule network\n",
    "        for _ in range(5):\n",
    "            tx = generate_transaction(entities_df, len(transactions), is_ml=True)\n",
    "            if tx:\n",
    "                transactions.append(tx)\n",
    "    else:\n",
    "        tx = generate_transaction(entities_df, len(transactions), is_ml)\n",
    "        if tx:\n",
    "            transactions.append(tx)\n",
    "    i += 1\n",
    "\n",
    "# Create transactions_df with correct column order\n",
    "transactions_df = pd.DataFrame(transactions, columns=[\n",
    "    'sender_id', 'receiver_id', 'transaction_id', 'amount', 'transaction_type',\n",
    "    'timestamp', 'is_cross_border', 'ml_flag'\n",
    "])\n",
    "\n",
    "# Validate transactions_df\n",
    "valid_entity_ids = set(entities_df['entity_id'])\n",
    "for idx, row in transactions_df.iterrows():\n",
    "    if len(row) != 8:\n",
    "        print(f\"Warning: Row {idx} in transactions_df has {len(row)} columns: {row}\")\n",
    "    if row['sender_id'] not in valid_entity_ids:\n",
    "        print(f\"Error: Invalid sender_id {row['sender_id']} in transaction {row['transaction_id']}\")\n",
    "    if row['receiver_id'] not in valid_entity_ids:\n",
    "        print(f\"Error: Invalid receiver_id {row['receiver_id']} in transaction {row['transaction_id']}\")\n",
    "    if row['sender_id'].startswith('T') or row['receiver_id'].startswith('T'):\n",
    "        print(f\"Error: Transaction-like ID in transaction {row['transaction_id']}: sender_id={row['sender_id']}, receiver_id={row['receiver_id']}\")\n",
    "\n",
    "# Save to CSV with quoting\n",
    "entities_df.to_csv('entities.csv', index=False, quoting=csv.QUOTE_ALL)\n",
    "transactions_df.to_csv('transactions.csv', index=False, quoting=csv.QUOTE_ALL)\n",
    "\n",
    "print(f\"Synthetic data generated: entities.csv ({len(entities_df)} entities) and transactions.csv ({len(transactions_df)} transactions)\")"
   ]
  },
  {
   "cell_type": "code",
   "execution_count": 50,
   "metadata": {},
   "outputs": [],
   "source": [
    "import kuzu\n",
    "import os\n",
    "\n",
    "# Initialize Kuzu database\n",
    "db = kuzu.Database('kuzu_db')\n",
    "conn = kuzu.Connection(db)\n",
    "\n"
   ]
  },
  {
   "cell_type": "code",
   "execution_count": 51,
   "metadata": {},
   "outputs": [
    {
     "data": {
      "text/plain": [
       "<kuzu.query_result.QueryResult at 0x1e300a5b690>"
      ]
     },
     "execution_count": 51,
     "metadata": {},
     "output_type": "execute_result"
    }
   ],
   "source": [
    "\n",
    "# Create node and relationship tables\n",
    "conn.execute(\"\"\"\n",
    "    CREATE NODE TABLE Entity(\n",
    "        entity_id STRING,\n",
    "        entity_type STRING,\n",
    "        name STRING,\n",
    "        country STRING,\n",
    "        PRIMARY KEY (entity_id)\n",
    "    )\n",
    "\"\"\")\n",
    "\n",
    "conn.execute(\"\"\"\n",
    "    CREATE REL TABLE Transaction(\n",
    "        FROM Entity TO Entity,\n",
    "        transaction_id STRING,\n",
    "        amount DOUBLE,\n",
    "        transaction_type STRING,\n",
    "        timestamp TIMESTAMP,\n",
    "        is_cross_border BOOLEAN,\n",
    "        ml_flag INT\n",
    "    )\n",
    "\"\"\")\n"
   ]
  },
  {
   "cell_type": "code",
   "execution_count": 52,
   "metadata": {},
   "outputs": [
    {
     "data": {
      "text/plain": [
       "<kuzu.query_result.QueryResult at 0x1e300a5b700>"
      ]
     },
     "execution_count": 52,
     "metadata": {},
     "output_type": "execute_result"
    }
   ],
   "source": [
    "# Load entities from CSV with explicit CSV options\n",
    "\n",
    "conn.execute(\"\"\"\n",
    "    COPY Entity FROM 'entities.csv' (HEADER=TRUE, DELIM=',', QUOTE='\"')\n",
    "\"\"\")\n",
    "\n",
    "# Load transactions from CSV with explicit CSV options\n",
    "conn.execute(\"\"\"\n",
    "    COPY Transaction FROM 'transactions.csv' (HEADER=TRUE, DELIM=',', QUOTE='\"')\n",
    "\"\"\")"
   ]
  },
  {
   "cell_type": "code",
   "execution_count": 53,
   "metadata": {},
   "outputs": [
    {
     "name": "stdout",
     "output_type": "stream",
     "text": [
      "\n",
      "Top 10 high-degree nodes:\n",
      "['I0132', 'Serrano', 'Spain', 16]\n",
      "['B0155', 'Nexlify', 'Italy', 13]\n",
      "['I0732', 'Cole', 'India', 13]\n",
      "['I0684', 'Edwards', 'China', 13]\n",
      "['I0106', 'Turner', 'Brazil', 13]\n",
      "['I0065', 'Ward', 'France', 12]\n",
      "['I0367', 'Quinn', 'Italy', 12]\n",
      "['I0250', 'Ramirez', 'France', 12]\n",
      "['I0218', 'Kane', 'United Kingdom', 12]\n",
      "['I0589', 'Montgomery', 'China', 12]\n"
     ]
    }
   ],
   "source": [
    "\n",
    "# Example Cypher queries for analysis\n",
    "# Query 1: Find high-degree nodes (potential money mules)\n",
    "result = conn.execute(\"\"\"\n",
    "    MATCH (e:Entity)-[t:Transaction]->()\n",
    "    RETURN e.entity_id, e.name, e.country, COUNT(t) AS degree\n",
    "    ORDER BY degree DESC\n",
    "    LIMIT 10\n",
    "\"\"\")\n",
    "print(\"\\nTop 10 high-degree nodes:\")\n",
    "while result.has_next():\n",
    "    row = result.get_next()\n",
    "    print(row)\n"
   ]
  },
  {
   "cell_type": "code",
   "execution_count": 56,
   "metadata": {},
   "outputs": [
    {
     "name": "stdout",
     "output_type": "stream",
     "text": [
      "\n",
      "Potential smurfing (small transactions):\n",
      "['I0521', 5]\n",
      "['I0086', 5]\n",
      "['I0697', 5]\n",
      "['I0296', 5]\n",
      "['B0063', 4]\n",
      "['B0163', 4]\n",
      "['I0758', 4]\n",
      "['I0367', 4]\n",
      "['I0589', 4]\n",
      "['I0252', 4]\n"
     ]
    }
   ],
   "source": [
    "\n",
    "# Query 3: Detect smurfing (small transactions below threshold)\n",
    "result = conn.execute(\"\"\"\n",
    "    MATCH (e:Entity)-[t:Transaction]->()\n",
    "    WHERE t.amount < 1000\n",
    "    RETURN e.entity_id, COUNT(t) AS small_tx_count\n",
    "    ORDER BY small_tx_count DESC\n",
    "    LIMIT 10\n",
    "\"\"\")\n",
    "print(\"\\nPotential smurfing (small transactions):\")\n",
    "while result.has_next():\n",
    "    row = result.get_next()\n",
    "    print(row)"
   ]
  }
 ],
 "metadata": {
  "kernelspec": {
   "display_name": ".venv",
   "language": "python",
   "name": "python3"
  },
  "language_info": {
   "codemirror_mode": {
    "name": "ipython",
    "version": 3
   },
   "file_extension": ".py",
   "mimetype": "text/x-python",
   "name": "python",
   "nbconvert_exporter": "python",
   "pygments_lexer": "ipython3",
   "version": "3.13.0"
  }
 },
 "nbformat": 4,
 "nbformat_minor": 2
}
