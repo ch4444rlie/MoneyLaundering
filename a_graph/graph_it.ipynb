{
 "cells": [
  {
   "cell_type": "code",
   "execution_count": 20,
   "metadata": {},
   "outputs": [],
   "source": [
    "# Cell 1: Imports\n",
    "\n",
    "import kuzu\n",
    "import os\n",
    "import shutil\n",
    "import pandas as pd"
   ]
  },
  {
   "cell_type": "code",
   "execution_count": 21,
   "metadata": {},
   "outputs": [
    {
     "ename": "RuntimeError",
     "evalue": "IO exception: Could not set lock on file : c:\\Users\\cha\\Desktop\\aml_solution\\db\\graph_db\nSee the docs: https://docs.kuzudb.com/concurrency for more information.",
     "output_type": "error",
     "traceback": [
      "\u001b[31m---------------------------------------------------------------------------\u001b[39m",
      "\u001b[31mRuntimeError\u001b[39m                              Traceback (most recent call last)",
      "\u001b[36mCell\u001b[39m\u001b[36m \u001b[39m\u001b[32mIn[21]\u001b[39m\u001b[32m, line 10\u001b[39m\n\u001b[32m      8\u001b[39m db_path = os.path.join(\u001b[33m\"\u001b[39m\u001b[33m..\u001b[39m\u001b[33m\"\u001b[39m, \u001b[33m\"\u001b[39m\u001b[33mdb/graph_db\u001b[39m\u001b[33m\"\u001b[39m)\n\u001b[32m      9\u001b[39m shutil.rmtree(db_path, ignore_errors=\u001b[38;5;28;01mTrue\u001b[39;00m)\n\u001b[32m---> \u001b[39m\u001b[32m10\u001b[39m db = \u001b[43mkuzu\u001b[49m\u001b[43m.\u001b[49m\u001b[43mDatabase\u001b[49m\u001b[43m(\u001b[49m\u001b[43mdb_path\u001b[49m\u001b[43m)\u001b[49m\n\u001b[32m     11\u001b[39m conn = kuzu.Connection(db)\n\u001b[32m     12\u001b[39m \u001b[38;5;28mprint\u001b[39m(\u001b[33mf\u001b[39m\u001b[33m\"\u001b[39m\u001b[33mDatabase initialized at \u001b[39m\u001b[38;5;132;01m{\u001b[39;00mdb_path\u001b[38;5;132;01m}\u001b[39;00m\u001b[33m\"\u001b[39m)\n",
      "\u001b[36mFile \u001b[39m\u001b[32mc:\\Users\\cha\\Desktop\\aml_solution\\.venv\\Lib\\site-packages\\kuzu\\database.py:104\u001b[39m, in \u001b[36mDatabase.__init__\u001b[39m\u001b[34m(self, database_path, buffer_pool_size, max_num_threads, compression, lazy_init, read_only, max_db_size, auto_checkpoint, checkpoint_threshold)\u001b[39m\n\u001b[32m    102\u001b[39m \u001b[38;5;28mself\u001b[39m._database: Any = \u001b[38;5;28;01mNone\u001b[39;00m  \u001b[38;5;66;03m# (type: _kuzu.Database from pybind11)\u001b[39;00m\n\u001b[32m    103\u001b[39m \u001b[38;5;28;01mif\u001b[39;00m \u001b[38;5;129;01mnot\u001b[39;00m lazy_init:\n\u001b[32m--> \u001b[39m\u001b[32m104\u001b[39m     \u001b[38;5;28;43mself\u001b[39;49m\u001b[43m.\u001b[49m\u001b[43minit_database\u001b[49m\u001b[43m(\u001b[49m\u001b[43m)\u001b[49m\n",
      "\u001b[36mFile \u001b[39m\u001b[32mc:\\Users\\cha\\Desktop\\aml_solution\\.venv\\Lib\\site-packages\\kuzu\\database.py:155\u001b[39m, in \u001b[36mDatabase.init_database\u001b[39m\u001b[34m(self)\u001b[39m\n\u001b[32m    153\u001b[39m \u001b[38;5;28mself\u001b[39m.check_for_database_close()\n\u001b[32m    154\u001b[39m \u001b[38;5;28;01mif\u001b[39;00m \u001b[38;5;28mself\u001b[39m._database \u001b[38;5;129;01mis\u001b[39;00m \u001b[38;5;28;01mNone\u001b[39;00m:\n\u001b[32m--> \u001b[39m\u001b[32m155\u001b[39m     \u001b[38;5;28mself\u001b[39m._database = \u001b[43m_kuzu\u001b[49m\u001b[43m.\u001b[49m\u001b[43mDatabase\u001b[49m\u001b[43m(\u001b[49m\u001b[43m  \u001b[49m\u001b[38;5;66;43;03m# type: ignore[union-attr]\u001b[39;49;00m\n\u001b[32m    156\u001b[39m \u001b[43m        \u001b[49m\u001b[38;5;28;43mself\u001b[39;49m\u001b[43m.\u001b[49m\u001b[43mdatabase_path\u001b[49m\u001b[43m,\u001b[49m\n\u001b[32m    157\u001b[39m \u001b[43m        \u001b[49m\u001b[38;5;28;43mself\u001b[39;49m\u001b[43m.\u001b[49m\u001b[43mbuffer_pool_size\u001b[49m\u001b[43m,\u001b[49m\n\u001b[32m    158\u001b[39m \u001b[43m        \u001b[49m\u001b[38;5;28;43mself\u001b[39;49m\u001b[43m.\u001b[49m\u001b[43mmax_num_threads\u001b[49m\u001b[43m,\u001b[49m\n\u001b[32m    159\u001b[39m \u001b[43m        \u001b[49m\u001b[38;5;28;43mself\u001b[39;49m\u001b[43m.\u001b[49m\u001b[43mcompression\u001b[49m\u001b[43m,\u001b[49m\n\u001b[32m    160\u001b[39m \u001b[43m        \u001b[49m\u001b[38;5;28;43mself\u001b[39;49m\u001b[43m.\u001b[49m\u001b[43mread_only\u001b[49m\u001b[43m,\u001b[49m\n\u001b[32m    161\u001b[39m \u001b[43m        \u001b[49m\u001b[38;5;28;43mself\u001b[39;49m\u001b[43m.\u001b[49m\u001b[43mmax_db_size\u001b[49m\u001b[43m,\u001b[49m\n\u001b[32m    162\u001b[39m \u001b[43m        \u001b[49m\u001b[38;5;28;43mself\u001b[39;49m\u001b[43m.\u001b[49m\u001b[43mauto_checkpoint\u001b[49m\u001b[43m,\u001b[49m\n\u001b[32m    163\u001b[39m \u001b[43m        \u001b[49m\u001b[38;5;28;43mself\u001b[39;49m\u001b[43m.\u001b[49m\u001b[43mcheckpoint_threshold\u001b[49m\u001b[43m,\u001b[49m\n\u001b[32m    164\u001b[39m \u001b[43m    \u001b[49m\u001b[43m)\u001b[49m\n",
      "\u001b[31mRuntimeError\u001b[39m: IO exception: Could not set lock on file : c:\\Users\\cha\\Desktop\\aml_solution\\db\\graph_db\nSee the docs: https://docs.kuzudb.com/concurrency for more information."
     ]
    }
   ],
   "source": [
    "# Cell 2: Initialize Kùzu database\n",
    "import kuzu\n",
    "import os\n",
    "import shutil\n",
    "import pandas as pd\n",
    "\n",
    "# Step 1: Initialize database\n",
    "db_path = os.path.join(\"..\", \"db/graph_db\")\n",
    "shutil.rmtree(db_path, ignore_errors=True)\n",
    "db = kuzu.Database(db_path)\n",
    "conn = kuzu.Connection(db)\n",
    "print(f\"Database initialized at {db_path}\")\n",
    "\n",
    "# Step 2: Define schema\n",
    "conn.execute(\"\"\"\n",
    "    CREATE NODE TABLE Account(\n",
    "        id STRING,\n",
    "        country STRING,\n",
    "        total_inflow DOUBLE DEFAULT 0.0,\n",
    "        total_outflow DOUBLE DEFAULT 0.0,\n",
    "        PRIMARY KEY(id)\n",
    "    )\n",
    "\"\"\")\n",
    "conn.execute(\"\"\"\n",
    "    CREATE REL TABLE Transaction(\n",
    "        FROM Account TO Account,\n",
    "        transaction_id STRING,\n",
    "        amount DOUBLE,\n",
    "        timestamp STRING,\n",
    "        transaction_type STRING,\n",
    "        sender_country STRING,\n",
    "        receiver_country STRING,\n",
    "        description STRING,\n",
    "        suspicious_flag BOOLEAN\n",
    "    )\n",
    "\"\"\")\n",
    "print(\"Schema created: Account and Transaction tables\")\n"
   ]
  },
  {
   "cell_type": "code",
   "execution_count": 22,
   "metadata": {},
   "outputs": [
    {
     "name": "stdout",
     "output_type": "stream",
     "text": [
      "Loaded CSV with 12686 transactions\n",
      "Extracted 1000 unique accounts\n"
     ]
    },
    {
     "ename": "RuntimeError",
     "evalue": "Copy exception: Found duplicated primary key value E0314, which violates the uniqueness constraint of the primary key column.",
     "output_type": "error",
     "traceback": [
      "\u001b[31m---------------------------------------------------------------------------\u001b[39m",
      "\u001b[31mRuntimeError\u001b[39m                              Traceback (most recent call last)",
      "\u001b[36mCell\u001b[39m\u001b[36m \u001b[39m\u001b[32mIn[22]\u001b[39m\u001b[32m, line 16\u001b[39m\n\u001b[32m      9\u001b[39m account_df = pd.DataFrame({\n\u001b[32m     10\u001b[39m     \u001b[33m\"\u001b[39m\u001b[33mid\u001b[39m\u001b[33m\"\u001b[39m: accounts,\n\u001b[32m     11\u001b[39m     \u001b[33m\"\u001b[39m\u001b[33mcountry\u001b[39m\u001b[33m\"\u001b[39m: [sender_country_map.get(acc, \u001b[33m\"\u001b[39m\u001b[33mUnknown\u001b[39m\u001b[33m\"\u001b[39m) \u001b[38;5;28;01mfor\u001b[39;00m acc \u001b[38;5;129;01min\u001b[39;00m accounts],\n\u001b[32m     12\u001b[39m     \u001b[33m\"\u001b[39m\u001b[33mtotal_inflow\u001b[39m\u001b[33m\"\u001b[39m: \u001b[32m0.0\u001b[39m,\n\u001b[32m     13\u001b[39m     \u001b[33m\"\u001b[39m\u001b[33mtotal_outflow\u001b[39m\u001b[33m\"\u001b[39m: \u001b[32m0.0\u001b[39m\n\u001b[32m     14\u001b[39m })\n\u001b[32m     15\u001b[39m \u001b[38;5;28mprint\u001b[39m(\u001b[33mf\u001b[39m\u001b[33m\"\u001b[39m\u001b[33mExtracted \u001b[39m\u001b[38;5;132;01m{\u001b[39;00m\u001b[38;5;28mlen\u001b[39m(account_df)\u001b[38;5;132;01m}\u001b[39;00m\u001b[33m unique accounts\u001b[39m\u001b[33m\"\u001b[39m)\n\u001b[32m---> \u001b[39m\u001b[32m16\u001b[39m \u001b[43mconn\u001b[49m\u001b[43m.\u001b[49m\u001b[43mexecute\u001b[49m\u001b[43m(\u001b[49m\u001b[33;43m\"\u001b[39;49m\u001b[33;43mCOPY Account FROM account_df\u001b[39;49m\u001b[33;43m\"\u001b[39;49m\u001b[43m)\u001b[49m\n\u001b[32m     18\u001b[39m \u001b[38;5;66;03m# Prepare and load transactions\u001b[39;00m\n\u001b[32m     19\u001b[39m transaction_df = data[[\n\u001b[32m     20\u001b[39m     \u001b[33m\"\u001b[39m\u001b[33mTransaction_ID\u001b[39m\u001b[33m\"\u001b[39m, \u001b[33m\"\u001b[39m\u001b[33mSender_ID\u001b[39m\u001b[33m\"\u001b[39m, \u001b[33m\"\u001b[39m\u001b[33mReceiver_ID\u001b[39m\u001b[33m\"\u001b[39m, \u001b[33m\"\u001b[39m\u001b[33mAmount\u001b[39m\u001b[33m\"\u001b[39m, \u001b[33m\"\u001b[39m\u001b[33mTimestamp\u001b[39m\u001b[33m\"\u001b[39m,\n\u001b[32m     21\u001b[39m     \u001b[33m\"\u001b[39m\u001b[33mTransaction_Type\u001b[39m\u001b[33m\"\u001b[39m, \u001b[33m\"\u001b[39m\u001b[33mSender_Country\u001b[39m\u001b[33m\"\u001b[39m, \u001b[33m\"\u001b[39m\u001b[33mReceiver_Country\u001b[39m\u001b[33m\"\u001b[39m, \u001b[33m\"\u001b[39m\u001b[33mDescription\u001b[39m\u001b[33m\"\u001b[39m, \u001b[33m\"\u001b[39m\u001b[33mSuspicious_Flag\u001b[39m\u001b[33m\"\u001b[39m\n\u001b[32m   (...)\u001b[39m\u001b[32m     32\u001b[39m     \u001b[33m\"\u001b[39m\u001b[33mSuspicious_Flag\u001b[39m\u001b[33m\"\u001b[39m: \u001b[33m\"\u001b[39m\u001b[33msuspicious_flag\u001b[39m\u001b[33m\"\u001b[39m\n\u001b[32m     33\u001b[39m })\n",
      "\u001b[36mFile \u001b[39m\u001b[32mc:\\Users\\cha\\Desktop\\aml_solution\\.venv\\Lib\\site-packages\\kuzu\\connection.py:131\u001b[39m, in \u001b[36mConnection.execute\u001b[39m\u001b[34m(self, query, parameters)\u001b[39m\n\u001b[32m    128\u001b[39m     \u001b[38;5;28;01mraise\u001b[39;00m \u001b[38;5;167;01mRuntimeError\u001b[39;00m(msg)  \u001b[38;5;66;03m# noqa: TRY004\u001b[39;00m\n\u001b[32m    130\u001b[39m \u001b[38;5;28;01mif\u001b[39;00m \u001b[38;5;28mlen\u001b[39m(parameters) == \u001b[32m0\u001b[39m \u001b[38;5;129;01mand\u001b[39;00m \u001b[38;5;28misinstance\u001b[39m(query, \u001b[38;5;28mstr\u001b[39m):\n\u001b[32m--> \u001b[39m\u001b[32m131\u001b[39m     query_result_internal = \u001b[38;5;28;43mself\u001b[39;49m\u001b[43m.\u001b[49m\u001b[43m_connection\u001b[49m\u001b[43m.\u001b[49m\u001b[43mquery\u001b[49m\u001b[43m(\u001b[49m\u001b[43mquery\u001b[49m\u001b[43m)\u001b[49m\n\u001b[32m    132\u001b[39m \u001b[38;5;28;01melse\u001b[39;00m:\n\u001b[32m    133\u001b[39m     prepared_statement = \u001b[38;5;28mself\u001b[39m._prepare(query, parameters) \u001b[38;5;28;01mif\u001b[39;00m \u001b[38;5;28misinstance\u001b[39m(query, \u001b[38;5;28mstr\u001b[39m) \u001b[38;5;28;01melse\u001b[39;00m query\n",
      "\u001b[31mRuntimeError\u001b[39m: Copy exception: Found duplicated primary key value E0314, which violates the uniqueness constraint of the primary key column."
     ]
    }
   ],
   "source": [
    "# Step 3: Load data\n",
    "csv_path = \"synthetic_transactions.csv\"\n",
    "data = pd.read_csv(csv_path)\n",
    "print(f\"Loaded CSV with {len(data)} transactions\")\n",
    "\n",
    "# Extract unique accounts\n",
    "accounts = pd.concat([data[\"Sender_ID\"], data[\"Receiver_ID\"]]).unique()\n",
    "sender_country_map = data[[\"Sender_ID\", \"Sender_Country\"]].drop_duplicates().set_index(\"Sender_ID\")[\"Sender_Country\"]\n",
    "account_df = pd.DataFrame({\n",
    "    \"id\": accounts,\n",
    "    \"country\": [sender_country_map.get(acc, \"Unknown\") for acc in accounts],\n",
    "    \"total_inflow\": 0.0,\n",
    "    \"total_outflow\": 0.0\n",
    "})\n",
    "print(f\"Extracted {len(account_df)} unique accounts\")\n",
    "conn.execute(\"COPY Account FROM account_df\")\n",
    "\n",
    "# Prepare and load transactions\n",
    "transaction_df = data[[\n",
    "    \"Transaction_ID\", \"Sender_ID\", \"Receiver_ID\", \"Amount\", \"Timestamp\",\n",
    "    \"Transaction_Type\", \"Sender_Country\", \"Receiver_Country\", \"Description\", \"Suspicious_Flag\"\n",
    "]].rename(columns={\n",
    "    \"Transaction_ID\": \"transaction_id\",\n",
    "    \"Sender_ID\": \"from_id\",\n",
    "    \"Receiver_ID\": \"to_id\",\n",
    "    \"Amount\": \"amount\",\n",
    "    \"Timestamp\": \"timestamp\",\n",
    "    \"Transaction_Type\": \"transaction_type\",\n",
    "    \"Sender_Country\": \"sender_country\",\n",
    "    \"Receiver_Country\": \"receiver_country\",\n",
    "    \"Description\": \"description\",\n",
    "    \"Suspicious_Flag\": \"suspicious_flag\"\n",
    "})\n",
    "temp_csv = \"temp_transactions.csv\"\n",
    "transaction_df.to_csv(temp_csv, index=False)\n",
    "conn.execute(f\"\"\"\n",
    "    COPY Transaction FROM '{temp_csv}' (HEADER=true)\n",
    "\"\"\")\n",
    "os.remove(temp_csv)\n",
    "print(\"Data loaded successfully\")"
   ]
  },
  {
   "cell_type": "code",
   "execution_count": 23,
   "metadata": {},
   "outputs": [
    {
     "name": "stdout",
     "output_type": "stream",
     "text": [
      "Computed properties updated\n"
     ]
    }
   ],
   "source": [
    "\n",
    "# Step 4: Update computed properties\n",
    "conn.execute(\"MATCH (a:Account)-[t:Transaction]->() SET a.total_outflow = a.total_outflow + t.amount\")\n",
    "conn.execute(\"MATCH ()-[t:Transaction]->(a:Account) SET a.total_inflow = a.total_inflow + t.amount\")\n",
    "print(\"Computed properties updated\")\n"
   ]
  },
  {
   "cell_type": "code",
   "execution_count": 24,
   "metadata": {},
   "outputs": [
    {
     "name": "stdout",
     "output_type": "stream",
     "text": [
      "Total accounts: 1000\n",
      "Total transactions: 0\n",
      "Sample suspicious transactions:\n",
      "Empty DataFrame\n",
      "Columns: [t.transaction_id, sender, receiver, t.amount, t.timestamp]\n",
      "Index: []\n",
      "Top 5 accounts by outgoing transactions:\n",
      "Empty DataFrame\n",
      "Columns: [a.id, out_degree]\n",
      "Index: []\n"
     ]
    }
   ],
   "source": [
    "\n",
    "# Step 5: Verify data\n",
    "result = conn.execute(\"MATCH (a:Account) RETURN COUNT(a) AS account_count\")\n",
    "print(f\"Total accounts: {result.get_next()[0]}\")\n",
    "result = conn.execute(\"MATCH ()-[t:Transaction]->() RETURN COUNT(t) AS transaction_count\")\n",
    "print(f\"Total transactions: {result.get_next()[0]}\")\n",
    "result = conn.execute(\"\"\"\n",
    "    MATCH (a:Account)-[t:Transaction {suspicious_flag: true}]->(b:Account)\n",
    "    RETURN t.transaction_id, a.id AS sender, b.id AS receiver, t.amount, t.timestamp\n",
    "    LIMIT 5\n",
    "\"\"\")\n",
    "print(\"Sample suspicious transactions:\")\n",
    "print(result.get_as_df())\n",
    "result = conn.execute(\"\"\"\n",
    "    MATCH (a:Account)-[t:Transaction]->()\n",
    "    RETURN a.id, COUNT(t) AS out_degree\n",
    "    ORDER BY out_degree DESC\n",
    "    LIMIT 5\n",
    "\"\"\")\n",
    "print(\"Top 5 accounts by outgoing transactions:\")\n",
    "print(result.get_as_df())"
   ]
  },
  {
   "cell_type": "code",
   "execution_count": null,
   "metadata": {},
   "outputs": [],
   "source": []
  }
 ],
 "metadata": {
  "kernelspec": {
   "display_name": ".venv",
   "language": "python",
   "name": "python3"
  },
  "language_info": {
   "codemirror_mode": {
    "name": "ipython",
    "version": 3
   },
   "file_extension": ".py",
   "mimetype": "text/x-python",
   "name": "python",
   "nbconvert_exporter": "python",
   "pygments_lexer": "ipython3",
   "version": "3.13.0"
  }
 },
 "nbformat": 4,
 "nbformat_minor": 2
}
